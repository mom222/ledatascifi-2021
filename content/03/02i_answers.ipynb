{
 "cells": [
  {
   "cell_type": "markdown",
   "metadata": {},
   "source": [
    "# Answers to Pandas Exercises\n",
    "\n",
    "Coming after class.\n",
    "\n",
    "![](https://media.giphy.com/media/QhjR3MG9ZFfjB6BtIZ/source.mov)\n",
    "\n",
    "![](https://media.giphy.com/media/3kACvwjyzgOdqE3GWT/source.mp4)"
   ]
  }
 ],
 "metadata": {
  "kernelspec": {
   "display_name": "Python 3",
   "language": "python",
   "name": "python3"
  },
  "language_info": {
   "codemirror_mode": {
    "name": "ipython",
    "version": 3
   },
   "file_extension": ".py",
   "mimetype": "text/x-python",
   "name": "python",
   "nbconvert_exporter": "python",
   "pygments_lexer": "ipython3",
   "version": "3.8.5"
  }
 },
 "nbformat": 4,
 "nbformat_minor": 4
}
