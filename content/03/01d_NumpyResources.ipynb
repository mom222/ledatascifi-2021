{
 "cells": [
  {
   "cell_type": "markdown",
   "metadata": {},
   "source": [
    "# More Resources\n",
    "\n",
    "\"Wait, I feel like the prior pages didn't cover enough!\"\n",
    "\n",
    "A: You're right! I'm speeding past Numpy because\n",
    "1. We're going to use `pandas` mostly, and most of our numpy usage will be _implicit_ numpy usage within pandas. \n",
    "2. There is such good tutorials online. Instead of copy-pasting the definitive materials, let me point you to the place:\n",
    "\n",
    "- [NumPy quickstart](https://numpy.org/doc/stable/user/quickstart.html)\n",
    "- [NumPy: the absolute basics for beginners](https://numpy.org/doc/stable/user/absolute_beginners.html)\n",
    "- [NumPy basics](https://numpy.org/doc/stable/user/basics.html)\n",
    "\n",
    "---\n",
    "\n",
    "\"But, but... couldn't we do lots of _finance_ stuff in numpy?\"\n",
    "\n",
    "Absolutely. Anytime you're using matrices, numpy is probably what you should be using. It happens that this finance class will not emphasize simulations or derivatives, which are just two finance settings where numpy shines. \n",
    "\n",
    "---\n",
    "\n",
    "# Survey\n",
    "\n",
    "How were these pages on Numpy?\n",
    "\n",
    "Please use this form for any comments on the proceeding pages. (I didn't want to put this on every single page.)\n",
    "\n",
    "<iframe src=\"https://docs.google.com/forms/d/e/1FAIpQLScLgqMhkNZHFJdeew7q2aAk5crzNdMss_NZ4vC4LKluUuo_pg/viewform?embedded=true\" width=\"640\" height=\"925\" frameborder=\"0\" marginheight=\"0\" marginwidth=\"0\">Loading…</iframe>"
   ]
  }
 ],
 "metadata": {
  "kernelspec": {
   "display_name": "Python 3",
   "language": "python",
   "name": "python3"
  },
  "language_info": {
   "codemirror_mode": {
    "name": "ipython",
    "version": 3
   },
   "file_extension": ".py",
   "mimetype": "text/x-python",
   "name": "python",
   "nbconvert_exporter": "python",
   "pygments_lexer": "ipython3",
   "version": "3.8.5"
  }
 },
 "nbformat": 4,
 "nbformat_minor": 4
}
