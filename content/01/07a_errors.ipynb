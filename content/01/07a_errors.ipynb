{
 "cells": [
  {
   "cell_type": "markdown",
   "metadata": {},
   "source": [
    "# Errors\n",
    "\n",
    "Some students thought a quick walkthrough of errors and fixing them would be helpful. \n",
    "\n",
    "Below, I try to fix a two line program, and you'll see the most common error types. There are more error types in python, and for more info, I'll refer you to \n",
    "- [this website-tutorialsteacher](https://www.tutorialsteacher.com/python/error-types-in-python) for a short description of them, \n",
    "- [the official python documentation](https://docs.python.org/3/tutorial/errors.html) for more through coverage\n",
    "- and Google/StackOverflow. Tough to beat copy/pasting the error code into google to find fixes or pointers. \n",
    "\n",
    "When you get to more advanced programming, you'll sometimes want code running even when it produces an error! [The last section](#handling-errors) below has some pointers on that. \n",
    "\n",
    "## Most common error types\n",
    "\n",
    "```{tip}\n",
    "[This website-tutorialsteacher](https://www.tutorialsteacher.com/python/error-types-in-python) has a nice page listing the most common error types. If you get an error and aren't sure what it means, refer to this link as a starting point.\n",
    "```\n",
    "\n",
    "### `SyntaxError` \n",
    "\n",
    "Means there is something wrong with the way your program is written. This often means you included or excluded punctuation that does/does not belong."
   ]
  },
  {
   "cell_type": "code",
   "execution_count": null,
   "metadata": {},
   "outputs": [],
   "source": [
    "if True\n",
    "print(\"hi\"\"+2+name)"
   ]
  },
  {
   "cell_type": "markdown",
   "metadata": {},
   "source": [
    "Let's fix that by adding a colon."
   ]
  },
  {
   "cell_type": "code",
   "execution_count": 2,
   "metadata": {},
   "outputs": [
    {
     "ename": "IndentationError",
     "evalue": "expected an indented block (<ipython-input-2-37fa5b564367>, line 2)",
     "output_type": "error",
     "traceback": [
      "\u001b[1;36m  File \u001b[1;32m\"<ipython-input-2-37fa5b564367>\"\u001b[1;36m, line \u001b[1;32m2\u001b[0m\n\u001b[1;33m    print(\"hi \"\"+2+name)\u001b[0m\n\u001b[1;37m    ^\u001b[0m\n\u001b[1;31mIndentationError\u001b[0m\u001b[1;31m:\u001b[0m expected an indented block\n"
     ]
    }
   ],
   "source": [
    "if True: # <-- fix\n",
    "print(\"hi \"\"+2+name)"
   ]
  },
  {
   "cell_type": "markdown",
   "metadata": {},
   "source": [
    "### `IndentationError` \n",
    "\n",
    "Is pretty self explanatory but common, especially when you're writing code with multiple layers of `for`, `if`, `def`, `try`, etc...\n",
    "\n",
    "Let's fix that by adding an indent inside the `if` statement:"
   ]
  },
  {
   "cell_type": "code",
   "execution_count": 3,
   "metadata": {},
   "outputs": [
    {
     "ename": "SyntaxError",
     "evalue": "EOL while scanning string literal (<ipython-input-3-9dd1d6dac50b>, line 2)",
     "output_type": "error",
     "traceback": [
      "\u001b[1;36m  File \u001b[1;32m\"<ipython-input-3-9dd1d6dac50b>\"\u001b[1;36m, line \u001b[1;32m2\u001b[0m\n\u001b[1;33m    print(\"hi \"\"+2+name)\u001b[0m\n\u001b[1;37m                        ^\u001b[0m\n\u001b[1;31mSyntaxError\u001b[0m\u001b[1;31m:\u001b[0m EOL while scanning string literal\n"
     ]
    }
   ],
   "source": [
    "if True: \n",
    "    print(\"hi \"\"+2+name)"
   ]
  },
  {
   "cell_type": "markdown",
   "metadata": {},
   "source": [
    "Drats! Another `SyntaxError`! Something is wrong with this line. I'm going to work from left to right. First, the quotation marks are unbalanced. We can fix that."
   ]
  },
  {
   "cell_type": "code",
   "execution_count": 4,
   "metadata": {},
   "outputs": [
    {
     "ename": "TypeError",
     "evalue": "can only concatenate str (not \"int\") to str",
     "output_type": "error",
     "traceback": [
      "\u001b[1;31m---------------------------------------------------------------------------\u001b[0m",
      "\u001b[1;31mTypeError\u001b[0m                                 Traceback (most recent call last)",
      "\u001b[1;32m<ipython-input-4-da5969d66cf3>\u001b[0m in \u001b[0;36m<module>\u001b[1;34m\u001b[0m\n\u001b[0;32m      1\u001b[0m \u001b[1;32mif\u001b[0m \u001b[1;32mTrue\u001b[0m\u001b[1;33m:\u001b[0m\u001b[1;33m\u001b[0m\u001b[1;33m\u001b[0m\u001b[0m\n\u001b[1;32m----> 2\u001b[1;33m     \u001b[0mprint\u001b[0m\u001b[1;33m(\u001b[0m\u001b[1;34m\"hi \"\u001b[0m\u001b[1;33m+\u001b[0m\u001b[1;36m2\u001b[0m\u001b[1;33m+\u001b[0m\u001b[0mname\u001b[0m\u001b[1;33m)\u001b[0m\u001b[1;33m\u001b[0m\u001b[1;33m\u001b[0m\u001b[0m\n\u001b[0m",
      "\u001b[1;31mTypeError\u001b[0m: can only concatenate str (not \"int\") to str"
     ]
    }
   ],
   "source": [
    "if True: \n",
    "    print(\"hi \"+2+name)"
   ]
  },
  {
   "cell_type": "markdown",
   "metadata": {},
   "source": [
    "### `TypeError`\n",
    "\n",
    "I tried to add a number (int) to a string. Python doesn't allow that.  "
   ]
  },
  {
   "cell_type": "code",
   "execution_count": 5,
   "metadata": {},
   "outputs": [
    {
     "ename": "NameError",
     "evalue": "name 'name' is not defined",
     "output_type": "error",
     "traceback": [
      "\u001b[1;31m---------------------------------------------------------------------------\u001b[0m",
      "\u001b[1;31mNameError\u001b[0m                                 Traceback (most recent call last)",
      "\u001b[1;32m<ipython-input-5-9b3a15405fe9>\u001b[0m in \u001b[0;36m<module>\u001b[1;34m\u001b[0m\n\u001b[0;32m      1\u001b[0m \u001b[1;32mif\u001b[0m \u001b[1;32mTrue\u001b[0m\u001b[1;33m:\u001b[0m\u001b[1;33m\u001b[0m\u001b[1;33m\u001b[0m\u001b[0m\n\u001b[1;32m----> 2\u001b[1;33m     \u001b[0mprint\u001b[0m\u001b[1;33m(\u001b[0m\u001b[1;34m\"hi \"\u001b[0m\u001b[1;33m+\u001b[0m\u001b[0mname\u001b[0m\u001b[1;33m)\u001b[0m\u001b[1;33m\u001b[0m\u001b[1;33m\u001b[0m\u001b[0m\n\u001b[0m",
      "\u001b[1;31mNameError\u001b[0m: name 'name' is not defined"
     ]
    }
   ],
   "source": [
    "if True: \n",
    "    print(\"hi \"+name)"
   ]
  },
  {
   "cell_type": "markdown",
   "metadata": {},
   "source": [
    "### `NameError`\n",
    "\n",
    "Python interpreter sees a word it does not recognize. You need to define it before it is used!"
   ]
  },
  {
   "cell_type": "code",
   "execution_count": 6,
   "metadata": {},
   "outputs": [
    {
     "name": "stdout",
     "output_type": "stream",
     "text": [
      "hi Jack\n"
     ]
    }
   ],
   "source": [
    "name = \"Jack\"\n",
    "if True: \n",
    "    print(\"hi \"+name)"
   ]
  },
  {
   "cell_type": "markdown",
   "metadata": {},
   "source": [
    "## Handling errors\n",
    "\n",
    "```{admonition} \n",
    "Q: When should you write code with `try-except` blocks?\n",
    "\n",
    "A: When you are writing code where you expect some exceptions to occur, and you want the code to continue on. \n",
    "\n",
    "The most common example in this class: You wrote code that scrapes a website. Sometimes, a page won't load. You want the crawler to continue.\n",
    "```\n",
    "\n",
    "\n",
    "Syntax with pseudocode for `try-except` blocks, borrowed from an [answer on SO](https://stackoverflow.com/a/31626974):\n",
    "\n",
    "```py\n",
    "try:\n",
    "    try_this(whatever)\n",
    "    \n",
    "except SomeException: \n",
    "    # this block runs only if the code inside \"try\" returns SomeException\n",
    "    \n",
    "    handle_this()\n",
    "    \n",
    "except DiffException as the_exception:  \n",
    "    # you can handle multiple exceptions...\n",
    "    # this block runs only if the code inside \"try\" returns DiffException\n",
    "    # you can \"name\" your exception type, here \"as the_exception\" does that\n",
    "    \n",
    "    handle_this_one(the_exception)\n",
    "    \n",
    "else: \n",
    "    # the else block only runs if no exceptions occur\n",
    "    \n",
    "    do_something_if_no_exceptions()\n",
    "\n",
    "finally:\n",
    "    # this block will execute no matter what, even if no exception,\n",
    "    \n",
    "    always_does_this()\n",
    "```\n",
    "\n",
    "```{warning}\n",
    "Avoid bare `except:` clauses. The idea is to handle **expected** errors.\n",
    "```\n",
    "\n",
    "### References\n",
    "\n",
    "I'd read through these pages for some walkthroughs and discussions of try-except:\n",
    "1. [This StackOverflow discussion](https://stackoverflow.com/questions/16138232/is-it-a-good-practice-to-use-try-except-else-in-python) has some really good answers talking about the whys and whens of `try-except` in python.\n",
    "1. [Tutorialsteach](https://www.tutorialsteacher.com/python/exception-handling-in-python)\n",
    "2. [Official Python docs](https://docs.python.org/3/tutorial/errors.html#handling-exceptions)"
   ]
  }
 ],
 "metadata": {
  "kernelspec": {
   "display_name": "Python 3",
   "language": "python",
   "name": "python3"
  },
  "language_info": {
   "codemirror_mode": {
    "name": "ipython",
    "version": 3
   },
   "file_extension": ".py",
   "mimetype": "text/x-python",
   "name": "python",
   "nbconvert_exporter": "python",
   "pygments_lexer": "ipython3",
   "version": "3.8.5"
  }
 },
 "nbformat": 4,
 "nbformat_minor": 4
}
