{
 "cells": [
  {
   "cell_type": "markdown",
   "metadata": {
    "slideshow": {
     "slide_type": "slide"
    }
   },
   "source": [
    "# Hello! Today:\n",
    "\n",
    "1. Before class: Fetch your class notes repo and the lecture repo, and open JLab to the class notes repo\n",
    "1. Afternoon: Props Theo (@schemesmith) for first website corrections! Demo?\n",
    "2. Discussing ASGN1 and peer reviews\n",
    "3. A brief discussion of `numpy`\n",
    "4. Getting dirty with `pandas`\n",
    "\n",
    "### Notes:\n",
    "- Please fill out a short check in survey: [https://forms.gle/3C56TPPJsWukKw318](https://forms.gle/3C56TPPJsWukKw318) \n",
    "- I'm going to try to record the afternoon session today"
   ]
  },
  {
   "cell_type": "markdown",
   "metadata": {
    "slideshow": {
     "slide_type": "slide"
    }
   },
   "source": [
    "## Peer reviews\n",
    "\n",
    "1. You'll get added to two classmate's submissions today\n",
    "    - A chance to learn and teach!\n",
    "    - Go to [github.com](github.com). On the left side of the page, under repositories, you'll see that you have access to assignments for two peers. \n",
    "2. For each, open the answer key in the repo and click on the link to the survey\n",
    "    - Most of the review can be done looking at the repo online, but..."
   ]
  },
  {
   "cell_type": "markdown",
   "metadata": {
    "slideshow": {
     "slide_type": "fragment"
    }
   },
   "source": [
    "⭐⭐⭐ **MOST IMPORTANT: You must clone the repo to your computer and run the code ON YOUR COMPUTER** (The essential ingredient of collaborative coding, and a fundamental takeaway from class) ⭐⭐⭐"
   ]
  },
  {
   "cell_type": "markdown",
   "metadata": {
    "slideshow": {
     "slide_type": "fragment"
    }
   },
   "source": [
    "If you have questions while doing reviews\n",
    "- if it is a general question (\"Is XYZ correct?\"): @classmates, but don't identify the reviewee\n",
    "- if it is sensitive: email Jason (and CC me)  "
   ]
  },
  {
   "cell_type": "markdown",
   "metadata": {
    "slideshow": {
     "slide_type": "subslide"
    }
   },
   "source": [
    "## ASGN1 review demo + working through a few problems\n",
    "\n",
    "1. Volunteer? I'll submit a full feedback form for your assignment\n",
    "    - Else I have an anon folder I can use\n",
    "2. Poll - which questions from the assignment should we discuss the solution to?\n",
    "    \n"
   ]
  },
  {
   "cell_type": "markdown",
   "metadata": {
    "slideshow": {
     "slide_type": "slide"
    }
   },
   "source": [
    "## Numpy summary\n",
    "\n",
    "By convention: `import numpy as np`\n",
    "\n",
    "Why is there a chapter in the book on it?"
   ]
  },
  {
   "cell_type": "markdown",
   "metadata": {
    "slideshow": {
     "slide_type": "fragment"
    }
   },
   "source": [
    "1. (`np` 🤝 Speed) + (`np` 🤝 `pandas`) = (`pandas` 🤝 speed)\n",
    "1. (`np` 🤝 Extra fncs) + (`np` 🤝 `pandas`) = (`pandas` 🤝 Extra fncs)\n",
    "    - `np.nan`, `np.median()`, `np.percentile()`, etc\n",
    "    - near C speeds on execution, written with python simplicity\n",
    "    "
   ]
  },
  {
   "cell_type": "markdown",
   "metadata": {
    "slideshow": {
     "slide_type": "subslide"
    }
   },
   "source": [
    "From the [official documentation](https://numpy.org/doc/stable/user/whatisnumpy.html)\n",
    "\n",
    "> NumPy is the fundamental package for scientific computing in Python. It provides \n",
    "> - a multidimensional array object, \n",
    "> - various derived objects (such as masked arrays and matrices), \n",
    "> - an assortment of routines for fast operations on arrays, including mathematical, logical, shape manipulation, sorting, selecting, I/O, discrete Fourier transforms, basic linear algebra, basic statistical operations, random simulation and much more.\n",
    ">\n",
    "> [A lot of Data Sci packages are built using NumPy. In order to efficiently use them... one also needs to know how to use NumPy arrays.]"
   ]
  },
  {
   "cell_type": "markdown",
   "metadata": {
    "slideshow": {
     "slide_type": "subslide"
    }
   },
   "source": [
    "### NP reference\n",
    "\n",
    "[numpy.org/doc](numpy.org/doc) has pages with\n",
    "- the \"absolute basics\" start here (very good)\n",
    "- quickstart guide (next)\n",
    "- how-to section"
   ]
  },
  {
   "cell_type": "markdown",
   "metadata": {
    "slideshow": {
     "slide_type": "fragment"
    }
   },
   "source": [
    "What numpy skills should you focus on?\n",
    "1. Indexing (v similar to Py, but some extra features)\n",
    "2. \"Masking\" (useful for filters in pandas, and creating variables)\n",
    "3. What functions are available\n",
    "4. If you use anything \"random\" in your code, (basically) always set a seed!\n",
    "    - `np` has updated `np.random` and seeding has changed. [See the doc's seeding page](https://numpy.org/doc/stable/reference/random/bit_generators/index.html#seeding-and-entropy)\n",
    "\n",
    "_Note: We will basically only use 1D arrays (simplifies things)_"
   ]
  },
  {
   "cell_type": "markdown",
   "metadata": {
    "slideshow": {
     "slide_type": "subslide"
    }
   },
   "source": [
    "## In-class NP examples\n",
    "\n",
    "1. Indexing looks the same (at least for 1D arrays):"
   ]
  },
  {
   "cell_type": "code",
   "execution_count": 1,
   "metadata": {
    "slideshow": {
     "slide_type": "fragment"
    }
   },
   "outputs": [
    {
     "name": "stdout",
     "output_type": "stream",
     "text": [
      "myray: [ 0  1  2  3  4  5  6  7  8  9 10 11 12 13 14]\n",
      "slice: [ 6  7  8  9 10]\n"
     ]
    }
   ],
   "source": [
    "import numpy as np\n",
    "myray = np.arange(15)\n",
    "print(\"myray:\", myray) \n",
    "print(\"slice:\", myray[6:11]) # pick the 6-10th elements\n",
    "# quick try: pick the odd elements"
   ]
  },
  {
   "cell_type": "markdown",
   "metadata": {
    "slideshow": {
     "slide_type": "subslide"
    }
   },
   "source": [
    "## One in-class NP example\n",
    "\n",
    "1. Indexing looks the same (at least for 1D arrays)\n",
    "2. Booleans and masking"
   ]
  },
  {
   "cell_type": "code",
   "execution_count": 2,
   "metadata": {
    "slideshow": {
     "slide_type": "fragment"
    }
   },
   "outputs": [
    {
     "name": "stdout",
     "output_type": "stream",
     "text": [
      "myray: [ 1.33145787  0.54058088 -0.06731178 -0.88356257 -0.09785319]\n"
     ]
    }
   ],
   "source": [
    "# create a random vector (every run of this --> diff #s)\n",
    "from numpy.random import default_rng\n",
    "rg = default_rng()\n",
    "myray = rg.standard_normal(5)\n",
    "print(\"myray:\", myray) \n",
    "\n",
    "# Q: how can you always select the positive elements from this?\n",
    "# prof demo: booleans, a single condition-->bool, \n",
    "#            using booleans on an array/list, \n",
    "#            indexing/filtering via booleans as \"masks\"\n",
    "#            then answer"
   ]
  },
  {
   "cell_type": "markdown",
   "metadata": {
    "slideshow": {
     "slide_type": "slide"
    }
   },
   "source": [
    "## PANDAS\n",
    "\n",
    "1. Cover: 3.2.0, 3.2.1\n",
    "1. How do I?  --> 3.2.3 is a good quick resource\n",
    "2. Exploring the incredible FRED dataset: [https://fred.stlouisfed.org/](https://fred.stlouisfed.org/)\n",
    "    - Unreal repository of data:\n",
    "    > Download, graph, and track **786,000 US and international time series from 103 sources.** \n",
    "    - Check out \"at a glance\" and \"popular series\"\n",
    "    - Usable in other classes: easy to download, clean, modify, analyze, plot all that in seconds of coding!"
   ]
  },
  {
   "cell_type": "code",
   "execution_count": 3,
   "metadata": {
    "slideshow": {
     "slide_type": "subslide"
    }
   },
   "outputs": [],
   "source": [
    "import datetime\n",
    "import pandas_datareader as pdr # if error, run: !pip install pandas_datareader \n",
    "start = datetime.datetime(2017, 1, 1) # you can specify start and end dates this way\n",
    "end = datetime.datetime(2021, 1, 27)\n",
    "macro_df = pdr.data.DataReader(['GDP','CPIAUCSL','UNRATE'], 'fred', start, end)\n",
    "\n",
    "# prof demo+vocab coverage (students should type out if possible)\n",
    "#    vocab: df, rows, columns/vars (accessing/series), index, \n",
    "#    how to: access 1 var (note: series), access multiple vars\n",
    "#            access col names, rename (some cols, all cols via set_axis(1))\n",
    "#            access index\n",
    "#    index (reset and set)"
   ]
  },
  {
   "cell_type": "markdown",
   "metadata": {
    "slideshow": {
     "slide_type": "subslide"
    }
   },
   "source": [
    "### More practice\n",
    "\n",
    "We should start the `pandas` exercises. Let's at least copy the code to our notebooks. \n",
    "\n",
    "If time, let's get started... try the pre-set breakout rooms.\n",
    "\n",
    "We will cover:\n",
    "- EDA (see 3.2.5)\n",
    "- assign/create variable\n",
    "- ```(\n",
    "        codechains (3.2.6!)\n",
    "     )\n",
    "     ```\n",
    "- take care: temp vs permanent (3.2.4)\n",
    "- for loops/groupby"
   ]
  },
  {
   "cell_type": "markdown",
   "metadata": {
    "slideshow": {
     "slide_type": "subslide"
    }
   },
   "source": [
    "### Next class\n",
    "\n",
    "Will resume the `pandas` exercises next class, ⭐⭐ during which we will have our first student led demos. ⭐⭐\n",
    "- Morning: Natalie and Christian should solve Q4 (bonus: Q5). \n",
    "- Afternoon: Alina and Anders will demo their solutions to Q4 (bonus: Q5).\n",
    "\n",
    "### Student demos\n",
    "- Everyone will do a couple throughout the semester\n",
    "- Describe your approach (pseudocode) and then show and explain code step by step\n",
    "- Low stakes - typically small problems\n",
    "- Varieties: single or team show-and-tell, compare/contrast/discuss"
   ]
  },
  {
   "cell_type": "markdown",
   "metadata": {
    "slideshow": {
     "slide_type": "subslide"
    }
   },
   "source": [
    "## Summary \n",
    "\n",
    "- Remember the 15 minute rule on syntax errors and to LOOK AT YOUR DATA AND OBJECTS A LOT! (every incremental command, for now)\n",
    "- Know for Numpy: indexing, masking, avail functions\n",
    "- Pandas: LETS GO!\n",
    "\n",
    "![](https://media.giphy.com/media/H7x1H0veAJlo4/giphy.gif)\n",
    "\n",
    "#### Shut down: Restart your kernel and run code, save all open files, close JLab, commit and push your class notes repo.\n"
   ]
  }
 ],
 "metadata": {
  "kernelspec": {
   "display_name": "Python 3",
   "language": "python",
   "name": "python3"
  },
  "language_info": {
   "codemirror_mode": {
    "name": "ipython",
    "version": 3
   },
   "file_extension": ".py",
   "mimetype": "text/x-python",
   "name": "python",
   "nbconvert_exporter": "python",
   "pygments_lexer": "ipython3",
   "version": "3.8.5"
  }
 },
 "nbformat": 4,
 "nbformat_minor": 4
}
